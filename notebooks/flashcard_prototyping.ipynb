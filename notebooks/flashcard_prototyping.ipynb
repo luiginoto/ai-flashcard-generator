{
 "cells": [
  {
   "cell_type": "code",
   "execution_count": 29,
   "metadata": {},
   "outputs": [],
   "source": [
    "import os\n",
    "from dotenv import load_dotenv\n",
    "import operator\n",
    "from typing import Annotated, List, TypedDict, Literal\n",
    "\n",
    "from langchain_core.prompts import ChatPromptTemplate\n",
    "from langchain_core.output_parsers import StrOutputParser, JsonOutputParser\n",
    "from langchain.schema import Document\n",
    "from langchain_community.document_loaders import PyPDFLoader\n",
    "from langchain.chains.combine_documents.reduce import (\n",
    "    acollapse_docs,\n",
    "    split_list_of_docs,\n",
    ")\n",
    "from langchain_text_splitters import RecursiveCharacterTextSplitter\n",
    "from langgraph.constants import Send\n",
    "from langgraph.graph import END, START, StateGraph"
   ]
  },
  {
   "cell_type": "code",
   "execution_count": 30,
   "metadata": {},
   "outputs": [
    {
     "data": {
      "text/plain": [
       "True"
      ]
     },
     "execution_count": 30,
     "metadata": {},
     "output_type": "execute_result"
    }
   ],
   "source": [
    "load_dotenv()"
   ]
  },
  {
   "cell_type": "code",
   "execution_count": 31,
   "metadata": {},
   "outputs": [],
   "source": [
    "file_path = '/Users/luiginoto/Documents/Courses and projects/Flashcard system/biology-essay-example-pdf.pdf'\n",
    "loader = PyPDFLoader(file_path)"
   ]
  },
  {
   "cell_type": "code",
   "execution_count": 32,
   "metadata": {},
   "outputs": [],
   "source": [
    "documents = loader.load_and_split(text_splitter=RecursiveCharacterTextSplitter.from_tiktoken_encoder(chunk_size=1000, chunk_overlap=0))"
   ]
  },
  {
   "cell_type": "code",
   "execution_count": 33,
   "metadata": {},
   "outputs": [],
   "source": [
    "from langchain_openai import ChatOpenAI\n",
    "\n",
    "llm = ChatOpenAI(\n",
    "    model=\"gpt-4-turbo\",\n",
    "    temperature=0,\n",
    "    max_tokens=None,\n",
    "    timeout=None,\n",
    "    max_retries=2,\n",
    ")"
   ]
  },
  {
   "cell_type": "code",
   "execution_count": 34,
   "metadata": {},
   "outputs": [],
   "source": [
    "map_template = \"\"\"Based on the provided documents, please write a summary by picking out the major CONCEPTS, TERMS, DEFINITIONS,\n",
    "and ACRONYMS that are important in the documents.\n",
    "\n",
    "Prioritize clarity and brevity while retaining the essential information.\n",
    "\n",
    "Aim to convey any supporting details that contribute to a comprehensive understanding of each CONCEPT, TERM, DEFINITION and ACRONYM. \n",
    "\n",
    "Do not focus on historical context (when something was introduced or implemented). Ignore anything that looks like source code.\n",
    "\n",
    "DOCUMENTS:\n",
    "{docs}\n",
    "\n",
    "Helpful Answer:\n",
    "\"\"\"\n",
    "\n",
    "map_prompt = ChatPromptTemplate([\n",
    "    (\"system\", \"You are a helpful assistant specialized in effectively summarizing any kind of text\"),\n",
    "    (\"user\", map_template)\n",
    "])\n",
    "\n",
    "reduce_template: str = \"\"\"The following is set of definitions/concepts:\n",
    "{docs}\n",
    "Take these and distill it into a final, consolidated list of at least twenty (20) definitions/concepts.\n",
    "\n",
    "For each of these, generate a question and an answer. The goal is that these tuples of questions and answers will\n",
    "be used to create flashcards.\n",
    "\n",
    "Please provide the result in a JSON format, using questions as keys and answers as values.\n",
    "\n",
    "Helpful Answer:\"\n",
    "\"\"\"\n",
    "\n",
    "reduce_prompt = ChatPromptTemplate([(\"human\", reduce_template)])"
   ]
  },
  {
   "cell_type": "code",
   "execution_count": 35,
   "metadata": {},
   "outputs": [],
   "source": [
    "map_chain = map_prompt | llm | StrOutputParser()\n",
    "reduce_chain = reduce_prompt | llm | JsonOutputParser()"
   ]
  },
  {
   "cell_type": "code",
   "execution_count": 36,
   "metadata": {},
   "outputs": [],
   "source": [
    "token_max = 100000"
   ]
  },
  {
   "cell_type": "code",
   "execution_count": 37,
   "metadata": {},
   "outputs": [],
   "source": [
    "def length_function(documents: List[Document]) -> int:\n",
    "    \"\"\"Get number of tokens for input contents.\"\"\"\n",
    "    return sum(llm.get_num_tokens(doc.page_content) for doc in documents)\n",
    "\n",
    "\n",
    "# This will be the overall state of the main graph.\n",
    "# It will contain the input document contents, corresponding\n",
    "# summaries, and a final summary.\n",
    "class OverallState(TypedDict):\n",
    "    # Notice here we use the operator.add\n",
    "    # This is because we want combine all the summaries we generate\n",
    "    # from individual nodes back into one list - this is essentially\n",
    "    # the \"reduce\" part\n",
    "    contents: List[str]\n",
    "    summaries: Annotated[list, operator.add]\n",
    "    collapsed_summaries: List[Document]\n",
    "    final_summary: str\n",
    "\n",
    "\n",
    "# This will be the state of the node that we will \"map\" all\n",
    "# documents to in order to generate summaries\n",
    "class SummaryState(TypedDict):\n",
    "    content: str\n",
    "\n",
    "\n",
    "# Here we generate a summary, given a document\n",
    "async def generate_summary(state: SummaryState):\n",
    "    response = await map_chain.ainvoke(state[\"content\"])\n",
    "    return {\"summaries\": [response]}\n",
    "\n",
    "\n",
    "# Here we define the logic to map out over the documents\n",
    "# We will use this an edge in the graph\n",
    "def map_summaries(state: OverallState):\n",
    "    # We will return a list of `Send` objects\n",
    "    # Each `Send` object consists of the name of a node in the graph\n",
    "    # as well as the state to send to that node\n",
    "    return [\n",
    "        Send(\"generate_summary\", {\"content\": content}) for content in state[\"contents\"]\n",
    "    ]\n",
    "\n",
    "\n",
    "def collect_summaries(state: OverallState):\n",
    "    return {\n",
    "        \"collapsed_summaries\": [Document(summary) for summary in state[\"summaries\"]]\n",
    "    }\n",
    "\n",
    "\n",
    "# Add node to collapse summaries\n",
    "async def collapse_summaries(state: OverallState):\n",
    "    doc_lists = split_list_of_docs(\n",
    "        state[\"collapsed_summaries\"], length_function, token_max\n",
    "    )\n",
    "    results = []\n",
    "    for doc_list in doc_lists:\n",
    "        results.append(await acollapse_docs(doc_list, map_chain.ainvoke))\n",
    "\n",
    "    return {\"collapsed_summaries\": results}\n",
    "\n",
    "\n",
    "# This represents a conditional edge in the graph that determines\n",
    "# if we should collapse the summaries or not\n",
    "def should_collapse(\n",
    "    state: OverallState,\n",
    ") -> Literal[\"collapse_summaries\", \"generate_final_summary\"]:\n",
    "    num_tokens = length_function(state[\"collapsed_summaries\"])\n",
    "    if num_tokens > token_max:\n",
    "        return \"collapse_summaries\"\n",
    "    else:\n",
    "        return \"generate_final_summary\"\n",
    "\n",
    "\n",
    "# Here we will generate the final summary\n",
    "async def generate_final_summary(state: OverallState):\n",
    "    response = await reduce_chain.ainvoke(state[\"collapsed_summaries\"])\n",
    "    return {\"final_summary\": response}\n",
    "\n",
    "\n",
    "# Construct the graph\n",
    "# Nodes:\n",
    "graph = StateGraph(OverallState)\n",
    "graph.add_node(\"generate_summary\", generate_summary)  # same as before\n",
    "graph.add_node(\"collect_summaries\", collect_summaries)\n",
    "graph.add_node(\"collapse_summaries\", collapse_summaries)\n",
    "graph.add_node(\"generate_final_summary\", generate_final_summary)\n",
    "\n",
    "# Edges:\n",
    "graph.add_conditional_edges(START, map_summaries, [\"generate_summary\"])\n",
    "graph.add_edge(\"generate_summary\", \"collect_summaries\")\n",
    "graph.add_conditional_edges(\"collect_summaries\", should_collapse)\n",
    "graph.add_conditional_edges(\"collapse_summaries\", should_collapse)\n",
    "graph.add_edge(\"generate_final_summary\", END)\n",
    "\n",
    "app = graph.compile()"
   ]
  },
  {
   "cell_type": "code",
   "execution_count": 38,
   "metadata": {},
   "outputs": [
    {
     "name": "stdout",
     "output_type": "stream",
     "text": [
      "{'generate_summary': {'summaries': ['**Concepts, Terms, Definitions, and Acronyms from the Documents:**\\n\\n1. **Myxococcus xanthus**:\\n   - A gram-negative, rod-shaped bacterium from the myxobacteria species.\\n   - Predatory and saprophytic, thriving in soils rich in organic matter and a pH range of 5-10.\\n   - Forms multicellular communities and utilizes macromolecules like lipids and peptides for nutrition.\\n\\n2. **Ecological Niches**:\\n   - Specific environments where different organisms live, such as the topsoil layer for micrococci bacteria.\\n\\n3. **Biofilms**:\\n   - Structures formed by microbial communities, where cells stick to each other and often to a surface, protected by a slimy extracellular matrix.\\n\\n4. **Gliding Motility**:\\n   - A type of movement along the long axis of a cell on a surface without the use of flagella, utilized by M. xanthus.\\n\\n5. **Stigmergy**:\\n   - A mechanism of indirect coordination between agents or actions, where the trace left in the environment by an action stimulates the performance of a next action. In M. xanthus, it facilitates the increase in concentration of digestive extracellular enzymes.\\n\\n6. **Gram-Negative Bacteria**:\\n   - Bacteria that do not retain the crystal violet stain used in the Gram staining method of bacterial differentiation.\\n\\n7. **Predatory and Saprophytic**:\\n   - Predatory: Bacteria that consume other microorganisms.\\n   - Saprophytic: Bacteria that decompose dead or decaying organic material.\\n\\n8. **Extracellular Antibiotics and Enzymes**:\\n   - Substances secreted by cells (in this case, M. xanthus) into their environment to inhibit the growth of competitors and break down complex molecules for nutrition.\\n\\nThis summary encapsulates the key concepts and terms related to the study of Myxococcus xanthus, focusing on its characteristics, ecological role, and behaviors within microbial communities.']}}\n",
      "{'generate_summary': {'summaries': ['**Major Concepts, Terms, Definitions, and Acronyms from the Documents:**\\n\\n1. **Myxococcus xanthus (M. xanthus)**: A type of microbe that undergoes a complex life cycle in response to nutrient availability.\\n\\n2. **Life Cycle of M. xanthus**:\\n   - **Starvation**: Triggers the microbes to aggregate and form molds.\\n   - **Aggregation**: Cells come together, some remain as a monolayer of free-floating rod cells.\\n   - **Mold**: Formed from aggregated cells during nutrient scarcity.\\n   - **Fruiting Bodies**: Develop from molds if nutrient deficiency persists, leading to morphogenesis.\\n   - **Myxospores**: Dormant spores formed from fruiting bodies during prolonged starvation, which germinate into vegetative forms upon nutrient detection.\\n\\n3. **Vegetative Form**: The active, growing stage of M. xanthus that forms biofilms and swarms when nutrients are available.\\n\\n4. **Biofilm**: A complex aggregation of microbes where cells are embedded in a self-produced matrix of extracellular polymeric substance (EPS).\\n\\n5. **Swarms**: Groups of cells that move collectively, particularly noted in the context of predation or during the vegetative stage of M. xanthus.\\n\\n6. **Social Network in Biofilms**:\\n   - **Connecting Vesicles**: Structures observed within biofilms that facilitate communication or nutritional support among cells, and are essential for the integrity and function of the biofilm.\\n\\n7. **Morphogenesis**: The process of development of the structure of an organism or part of an organism, in this case, the transformation of molds into fruiting bodies and then into spores.\\n\\n8. **Genetically Programmed**: Indicates that the life cycle stages and responses of M. xanthus to environmental conditions are encoded in their DNA.\\n\\nThis summary encapsulates the key biological processes and structures associated with the life cycle and social interactions of Myxococcus xanthus, emphasizing the adaptive responses to environmental nutrient levels and the structural components of their communal living in biofilms.']}}\n",
      "{'generate_summary': {'summaries': ['### Major Concepts, Terms, Definitions, and Acronyms\\n\\n1. **Motility**:\\n   - **A-motility**: Refers to the individual movement of single cells, utilizing multiple motor elements localized in the periplasmic space and attached to the peptidoglycan layer, assisted by extracellular polysaccharide slime.\\n   - **S-motility**: Involves the movement of cells in groups, requiring fibrils, type four pili, lipopolysaccharide (LPS), and O-antigen. Movement is achieved as type four pilus cells adhere to surfaces and retract.\\n\\n2. **Type Four Pili**: Filamentous structures on bacteria that aid in adhesion to surfaces and are crucial for S-motility by enabling cell retraction and movement.\\n\\n3. **Lipopolysaccharide (LPS)**: A component of the outer membrane of Gram-negative bacteria, important for structural integrity and protection, and involved in S-motility.\\n\\n4. **O-antigen**: Part of the LPS that is exposed on the surface of bacteria and plays a role in interactions with the environment, including motility.\\n\\n5. **Fruiting Bodies**: Structures formed by bacteria during periods of nutritional stress or starvation, allowing for the development of spores.\\n\\n6. **Myxospores**:\\n   - Definition: Metabolically dormant and heat-resistant spores formed within fruiting bodies by bacteria, capable of withstanding adverse conditions.\\n   - Characteristics: Spherical shapes, transformation from rod-shaped cells, and ability to germinate into vegetative cells upon return of favorable conditions.\\n\\n7. **Intercellular Communication**: The process by which cells communicate with each other, facilitating coordinated behaviors like swarming, fruiting, and sporulation.\\n\\n8. **Swarming**: A collective movement of bacteria, often influenced by intercellular communication and environmental signals, including those from prey.\\n\\n9. **Sporulation**: The process of spore formation, typically triggered by environmental stress, leading to the creation of dormant, resistant forms.\\n\\n10. **Eavesdropping**: A behavior observed in M. xanthus where the bacterium detects extracellular signals from prey, adjusting its swarming behavior to enhance predation effectiveness.\\n\\nThese terms and concepts are central to understanding the behaviors and survival strategies of bacteria, particularly in response to environmental challenges and interactions with other organisms.']}}\n",
      "{'generate_summary': {'summaries': [\"**Major Concepts and Terms:**\\n\\n1. **Biofilm**: A complex aggregation of microorganisms growing on a solid substrate. Biofilms are characterized by cells that are embedded in a self-produced matrix of extracellular polymeric substances (EPS).\\n\\n2. **3-D Imaging Technique**: A method used to visualize and analyze the structure of biofilms in three dimensions, revealing intricate details such as connections between cells.\\n\\n3. **Bacterial Social Network**: Refers to the interconnected structure within a biofilm where cells communicate and interact through various means, including physical bridges and chemical signals.\\n\\n4. **Fluid Bridges**: Structures identified between cells in a biofilm that facilitate the exchange of substances like proteins and hydrophobic molecules, functioning similarly to communication channels.\\n\\n5. **Selective Permeability**: A property of cell membranes (or structures mimicking them) that allows only specific substances to pass through while blocking others.\\n\\n6. **Vesicles**: Small, membrane-bound sacs within cells used for transporting substances. In the context of biofilms, vesicles like Cg1B and Tgl are involved in transporting motility proteins.\\n\\n7. **Motility Proteins**: Proteins that are essential for the movement of cells. In biofilms, these proteins are transferred between cells to aid in the collective mobility of the cluster.\\n\\n8. **Xanthus**: A specific type of predatory bacterial strain known for forming swarms and biofilms. It exhibits a unique life cycle with active and inactive stages influenced by nutrient availability.\\n\\n9. **Predatory Mechanisms**: In the context of Xanthus, these include the use of lytic enzymes and antibiotics to break down and inhibit other cells, facilitating predation.\\n\\n10. **Gliding**: A mode of movement observed in Xanthus and other bacteria, where cells move smoothly over surfaces.\\n\\n**Acronyms:**\\n\\n- **EPS**: Extracellular Polymeric Substances.\\n- **3-D**: Three-Dimensional.\\n\\n**Conclusion Summary:**\\nThe document discusses the structural and functional aspects of biofilms, particularly focusing on the bacterial strain Xanthus. It highlights the existence of fluid bridges that facilitate communication and substance exchange between cells, contributing to the biofilm's collective behavior such as nutrient absorption and motility. The presence of vesicles and motility proteins within these bridges suggests a complex, interconnected network that supports the biofilm's predatory and survival strategies. Further research is suggested to fully understand the implications of these findings.\"]}}\n",
      "{'collect_summaries': {'collapsed_summaries': [Document(metadata={}, page_content='**Concepts, Terms, Definitions, and Acronyms from the Documents:**\\n\\n1. **Myxococcus xanthus**:\\n   - A gram-negative, rod-shaped bacterium from the myxobacteria species.\\n   - Predatory and saprophytic, thriving in soils rich in organic matter and a pH range of 5-10.\\n   - Forms multicellular communities and utilizes macromolecules like lipids and peptides for nutrition.\\n\\n2. **Ecological Niches**:\\n   - Specific environments where different organisms live, such as the topsoil layer for micrococci bacteria.\\n\\n3. **Biofilms**:\\n   - Structures formed by microbial communities, where cells stick to each other and often to a surface, protected by a slimy extracellular matrix.\\n\\n4. **Gliding Motility**:\\n   - A type of movement along the long axis of a cell on a surface without the use of flagella, utilized by M. xanthus.\\n\\n5. **Stigmergy**:\\n   - A mechanism of indirect coordination between agents or actions, where the trace left in the environment by an action stimulates the performance of a next action. In M. xanthus, it facilitates the increase in concentration of digestive extracellular enzymes.\\n\\n6. **Gram-Negative Bacteria**:\\n   - Bacteria that do not retain the crystal violet stain used in the Gram staining method of bacterial differentiation.\\n\\n7. **Predatory and Saprophytic**:\\n   - Predatory: Bacteria that consume other microorganisms.\\n   - Saprophytic: Bacteria that decompose dead or decaying organic material.\\n\\n8. **Extracellular Antibiotics and Enzymes**:\\n   - Substances secreted by cells (in this case, M. xanthus) into their environment to inhibit the growth of competitors and break down complex molecules for nutrition.\\n\\nThis summary encapsulates the key concepts and terms related to the study of Myxococcus xanthus, focusing on its characteristics, ecological role, and behaviors within microbial communities.'), Document(metadata={}, page_content='### Major Concepts, Terms, Definitions, and Acronyms\\n\\n1. **Motility**:\\n   - **A-motility**: Refers to the individual movement of single cells, utilizing multiple motor elements localized in the periplasmic space and attached to the peptidoglycan layer, assisted by extracellular polysaccharide slime.\\n   - **S-motility**: Involves the movement of cells in groups, requiring fibrils, type four pili, lipopolysaccharide (LPS), and O-antigen. Movement is achieved as type four pilus cells adhere to surfaces and retract.\\n\\n2. **Type Four Pili**: Filamentous structures on bacteria that aid in adhesion to surfaces and are crucial for S-motility by enabling cell retraction and movement.\\n\\n3. **Lipopolysaccharide (LPS)**: A component of the outer membrane of Gram-negative bacteria, important for structural integrity and protection, and involved in S-motility.\\n\\n4. **O-antigen**: Part of the LPS that is exposed on the surface of bacteria and plays a role in interactions with the environment, including motility.\\n\\n5. **Fruiting Bodies**: Structures formed by bacteria during periods of nutritional stress or starvation, allowing for the development of spores.\\n\\n6. **Myxospores**:\\n   - Definition: Metabolically dormant and heat-resistant spores formed within fruiting bodies by bacteria, capable of withstanding adverse conditions.\\n   - Characteristics: Spherical shapes, transformation from rod-shaped cells, and ability to germinate into vegetative cells upon return of favorable conditions.\\n\\n7. **Intercellular Communication**: The process by which cells communicate with each other, facilitating coordinated behaviors like swarming, fruiting, and sporulation.\\n\\n8. **Swarming**: A collective movement of bacteria, often influenced by intercellular communication and environmental signals, including those from prey.\\n\\n9. **Sporulation**: The process of spore formation, typically triggered by environmental stress, leading to the creation of dormant, resistant forms.\\n\\n10. **Eavesdropping**: A behavior observed in M. xanthus where the bacterium detects extracellular signals from prey, adjusting its swarming behavior to enhance predation effectiveness.\\n\\nThese terms and concepts are central to understanding the behaviors and survival strategies of bacteria, particularly in response to environmental challenges and interactions with other organisms.'), Document(metadata={}, page_content='**Major Concepts, Terms, Definitions, and Acronyms from the Documents:**\\n\\n1. **Myxococcus xanthus (M. xanthus)**: A type of microbe that undergoes a complex life cycle in response to nutrient availability.\\n\\n2. **Life Cycle of M. xanthus**:\\n   - **Starvation**: Triggers the microbes to aggregate and form molds.\\n   - **Aggregation**: Cells come together, some remain as a monolayer of free-floating rod cells.\\n   - **Mold**: Formed from aggregated cells during nutrient scarcity.\\n   - **Fruiting Bodies**: Develop from molds if nutrient deficiency persists, leading to morphogenesis.\\n   - **Myxospores**: Dormant spores formed from fruiting bodies during prolonged starvation, which germinate into vegetative forms upon nutrient detection.\\n\\n3. **Vegetative Form**: The active, growing stage of M. xanthus that forms biofilms and swarms when nutrients are available.\\n\\n4. **Biofilm**: A complex aggregation of microbes where cells are embedded in a self-produced matrix of extracellular polymeric substance (EPS).\\n\\n5. **Swarms**: Groups of cells that move collectively, particularly noted in the context of predation or during the vegetative stage of M. xanthus.\\n\\n6. **Social Network in Biofilms**:\\n   - **Connecting Vesicles**: Structures observed within biofilms that facilitate communication or nutritional support among cells, and are essential for the integrity and function of the biofilm.\\n\\n7. **Morphogenesis**: The process of development of the structure of an organism or part of an organism, in this case, the transformation of molds into fruiting bodies and then into spores.\\n\\n8. **Genetically Programmed**: Indicates that the life cycle stages and responses of M. xanthus to environmental conditions are encoded in their DNA.\\n\\nThis summary encapsulates the key biological processes and structures associated with the life cycle and social interactions of Myxococcus xanthus, emphasizing the adaptive responses to environmental nutrient levels and the structural components of their communal living in biofilms.'), Document(metadata={}, page_content=\"**Major Concepts and Terms:**\\n\\n1. **Biofilm**: A complex aggregation of microorganisms growing on a solid substrate. Biofilms are characterized by cells that are embedded in a self-produced matrix of extracellular polymeric substances (EPS).\\n\\n2. **3-D Imaging Technique**: A method used to visualize and analyze the structure of biofilms in three dimensions, revealing intricate details such as connections between cells.\\n\\n3. **Bacterial Social Network**: Refers to the interconnected structure within a biofilm where cells communicate and interact through various means, including physical bridges and chemical signals.\\n\\n4. **Fluid Bridges**: Structures identified between cells in a biofilm that facilitate the exchange of substances like proteins and hydrophobic molecules, functioning similarly to communication channels.\\n\\n5. **Selective Permeability**: A property of cell membranes (or structures mimicking them) that allows only specific substances to pass through while blocking others.\\n\\n6. **Vesicles**: Small, membrane-bound sacs within cells used for transporting substances. In the context of biofilms, vesicles like Cg1B and Tgl are involved in transporting motility proteins.\\n\\n7. **Motility Proteins**: Proteins that are essential for the movement of cells. In biofilms, these proteins are transferred between cells to aid in the collective mobility of the cluster.\\n\\n8. **Xanthus**: A specific type of predatory bacterial strain known for forming swarms and biofilms. It exhibits a unique life cycle with active and inactive stages influenced by nutrient availability.\\n\\n9. **Predatory Mechanisms**: In the context of Xanthus, these include the use of lytic enzymes and antibiotics to break down and inhibit other cells, facilitating predation.\\n\\n10. **Gliding**: A mode of movement observed in Xanthus and other bacteria, where cells move smoothly over surfaces.\\n\\n**Acronyms:**\\n\\n- **EPS**: Extracellular Polymeric Substances.\\n- **3-D**: Three-Dimensional.\\n\\n**Conclusion Summary:**\\nThe document discusses the structural and functional aspects of biofilms, particularly focusing on the bacterial strain Xanthus. It highlights the existence of fluid bridges that facilitate communication and substance exchange between cells, contributing to the biofilm's collective behavior such as nutrient absorption and motility. The presence of vesicles and motility proteins within these bridges suggests a complex, interconnected network that supports the biofilm's predatory and survival strategies. Further research is suggested to fully understand the implications of these findings.\")]}}\n",
      "{'generate_final_summary': {'final_summary': {'What is Myxococcus xanthus?': 'A gram-negative, rod-shaped bacterium from the myxobacteria species, known for its predatory and saprophytic behavior in soils.', 'What are ecological niches?': 'Specific environments where different organisms live, each adapted to its particular habitat.', 'What are biofilms?': 'Structures formed by microbial communities where cells stick to each other and often to a surface, protected by a slimy extracellular matrix.', 'What is gliding motility?': 'A type of movement along the long axis of a cell on a surface without the use of flagella, utilized by Myxococcus xanthus.', 'What is stigmergy?': 'A mechanism of indirect coordination where the trace left in the environment by an action stimulates the performance of a next action, used by M. xanthus to increase enzyme concentration.', 'What defines gram-negative bacteria?': 'Bacteria that do not retain the crystal violet stain used in the Gram staining method of bacterial differentiation.', 'What does it mean for bacteria to be predatory and saprophytic?': 'Predatory bacteria consume other microorganisms, while saprophytic bacteria decompose dead or decaying organic material.', 'What are extracellular antibiotics and enzymes?': 'Substances secreted by cells into their environment to inhibit the growth of competitors and break down complex molecules for nutrition.', 'What is A-motility in bacteria?': 'The individual movement of single cells, utilizing motor elements localized in the periplasmic space and assisted by extracellular polysaccharide slime.', 'What is S-motility?': 'The movement of cells in groups, requiring fibrils, type four pili, lipopolysaccharide (LPS), and O-antigen, achieved by type four pilus cells adhering to surfaces and retracting.', 'What are type four pili?': 'Filamentous structures on bacteria that aid in adhesion to surfaces and are crucial for S-motility by enabling cell retraction and movement.', 'What is the role of lipopolysaccharide (LPS) in bacteria?': 'A component of the outer membrane of Gram-negative bacteria, important for structural integrity and protection, and involved in S-motility.', 'What are fruiting bodies in bacteria?': 'Structures formed by bacteria during periods of nutritional stress or starvation, allowing for the development of spores.', 'What are myxospores?': 'Metabolically dormant and heat-resistant spores formed within fruiting bodies by bacteria, capable of withstanding adverse conditions.', 'What is intercellular communication in bacteria?': 'The process by which cells communicate with each other, facilitating coordinated behaviors like swarming, fruiting, and sporulation.', 'What is swarming in bacterial behavior?': 'A collective movement of bacteria, often influenced by intercellular communication and environmental signals, including those from prey.', 'What is sporulation in bacteria?': 'The process of spore formation, typically triggered by environmental stress, leading to the creation of dormant, resistant forms.', 'What is eavesdropping in the context of Myxococcus xanthus?': 'A behavior where the bacterium detects extracellular signals from prey, adjusting its swarming behavior to enhance predation effectiveness.', 'What is the vegetative form of Myxococcus xanthus?': 'The active, growing stage of M. xanthus that forms biofilms and swarms when nutrients are available.', 'What is morphogenesis in the context of Myxococcus xanthus?': 'The process of development of the structure of an organism, in this case, the transformation of molds into fruiting bodies and then into spores.'}}}\n"
     ]
    }
   ],
   "source": [
    "async for step in app.astream(\n",
    "    {\"contents\": [doc.page_content for doc in documents]},\n",
    "    {\"recursion_limit\": 10},\n",
    "):\n",
    "    print(step)"
   ]
  },
  {
   "cell_type": "code",
   "execution_count": null,
   "metadata": {},
   "outputs": [],
   "source": []
  }
 ],
 "metadata": {
  "kernelspec": {
   "display_name": "ai-flashcard-generator",
   "language": "python",
   "name": "python3"
  },
  "language_info": {
   "codemirror_mode": {
    "name": "ipython",
    "version": 3
   },
   "file_extension": ".py",
   "mimetype": "text/x-python",
   "name": "python",
   "nbconvert_exporter": "python",
   "pygments_lexer": "ipython3",
   "version": "3.11.10"
  }
 },
 "nbformat": 4,
 "nbformat_minor": 2
}
