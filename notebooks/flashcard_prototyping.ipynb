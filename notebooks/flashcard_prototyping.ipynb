{
 "cells": [
  {
   "cell_type": "code",
   "execution_count": 117,
   "metadata": {},
   "outputs": [],
   "source": [
    "import os\n",
    "from dotenv import load_dotenv\n",
    "import operator\n",
    "from typing import Annotated, List, TypedDict\n",
    "\n",
    "from langchain_core.prompts import ChatPromptTemplate\n",
    "from langchain_core.output_parsers import StrOutputParser, JsonOutputParser\n",
    "from langchain_community.document_loaders import PyPDFLoader\n",
    "from langchain.chains.combine_documents.reduce import (\n",
    "    acollapse_docs,\n",
    "    split_list_of_docs,\n",
    ")\n",
    "from langchain_text_splitters import RecursiveCharacterTextSplitter\n",
    "from langgraph.constants import Send\n",
    "from langgraph.graph import END, START, StateGraph"
   ]
  },
  {
   "cell_type": "code",
   "execution_count": 118,
   "metadata": {},
   "outputs": [
    {
     "data": {
      "text/plain": [
       "True"
      ]
     },
     "execution_count": 118,
     "metadata": {},
     "output_type": "execute_result"
    }
   ],
   "source": [
    "load_dotenv()"
   ]
  },
  {
   "cell_type": "code",
   "execution_count": 119,
   "metadata": {},
   "outputs": [],
   "source": [
    "file_path = '/Users/luiginoto/Documents/Courses and projects/Flashcard system/biology-essay-example-pdf.pdf'\n",
    "loader = PyPDFLoader(file_path)"
   ]
  },
  {
   "cell_type": "code",
   "execution_count": 120,
   "metadata": {},
   "outputs": [],
   "source": [
    "documents = loader.load_and_split(text_splitter=RecursiveCharacterTextSplitter.from_tiktoken_encoder(chunk_size=1000, chunk_overlap=0))"
   ]
  },
  {
   "cell_type": "code",
   "execution_count": 121,
   "metadata": {},
   "outputs": [],
   "source": [
    "from langchain_openai import ChatOpenAI\n",
    "\n",
    "llm = ChatOpenAI(\n",
    "    model=\"gpt-4-turbo\",\n",
    "    temperature=0,\n",
    "    max_tokens=None,\n",
    "    timeout=None,\n",
    "    max_retries=2,\n",
    ")"
   ]
  },
  {
   "cell_type": "code",
   "execution_count": 122,
   "metadata": {},
   "outputs": [],
   "source": [
    "map_template = \"\"\"Based on the provided documents, please write a summary by picking out the major CONCEPTS, TERMS, DEFINITIONS,\n",
    "and ACRONYMS that are important in the documents.\n",
    "\n",
    "Prioritize clarity and brevity while retaining the essential information.\n",
    "\n",
    "Aim to convey any supporting details that contribute to a comprehensive understanding of each CONCEPT, TERM, DEFINITION and ACRONYM. \n",
    "\n",
    "Do not focus on historical context (when something was introduced or implemented). Ignore anything that looks like source code.\n",
    "\n",
    "DOCUMENTS:\n",
    "{docs}\n",
    "\n",
    "Helpful Answer:\n",
    "\"\"\"\n",
    "\n",
    "map_prompt = ChatPromptTemplate([\n",
    "    (\"system\", \"You are a helpful assistant specialized in effectively summarizing any kind of text\"),\n",
    "    (\"user\", map_template)\n",
    "])\n",
    "\n",
    "reduce_template: str = \"\"\"The following is set of definitions/concepts:\n",
    "{docs}\n",
    "Take these and distill it into a final, consolidated list of at least twenty (20) definitions/concepts.\n",
    "\n",
    "For each of these, generate a question and an answer. The goal is that these tuples of questions and answers will\n",
    "be used to create flashcards.\n",
    "\n",
    "Please provide the result in a JSON format, using questions as keys and answers as values.\n",
    "\n",
    "Helpful Answer:\"\n",
    "\"\"\"\n",
    "\n",
    "reduce_prompt = ChatPromptTemplate([(\"human\", reduce_template)])"
   ]
  },
  {
   "cell_type": "code",
   "execution_count": 123,
   "metadata": {},
   "outputs": [],
   "source": [
    "map_chain = map_prompt | llm | StrOutputParser()\n",
    "reduce_chain = reduce_prompt | llm | JsonOutputParser()"
   ]
  },
  {
   "cell_type": "code",
   "execution_count": 124,
   "metadata": {},
   "outputs": [],
   "source": [
    "token_max = 100000"
   ]
  },
  {
   "cell_type": "code",
   "execution_count": 125,
   "metadata": {},
   "outputs": [],
   "source": [
    "\n",
    "def length_function(documents: List[Document]) -> int:\n",
    "    \"\"\"Get number of tokens for input contents.\"\"\"\n",
    "    return sum(llm.get_num_tokens(doc.page_content) for doc in documents)\n",
    "\n",
    "\n",
    "# This will be the overall state of the main graph.\n",
    "# It will contain the input document contents, corresponding\n",
    "# summaries, and a final summary.\n",
    "class OverallState(TypedDict):\n",
    "    # Notice here we use the operator.add\n",
    "    # This is because we want combine all the summaries we generate\n",
    "    # from individual nodes back into one list - this is essentially\n",
    "    # the \"reduce\" part\n",
    "    contents: List[str]\n",
    "    summaries: Annotated[list, operator.add]\n",
    "    collapsed_summaries: List[Document]\n",
    "    final_summary: str\n",
    "\n",
    "\n",
    "# This will be the state of the node that we will \"map\" all\n",
    "# documents to in order to generate summaries\n",
    "class SummaryState(TypedDict):\n",
    "    content: str\n",
    "\n",
    "\n",
    "# Here we generate a summary, given a document\n",
    "async def generate_summary(state: SummaryState):\n",
    "    response = await map_chain.ainvoke(state[\"content\"])\n",
    "    return {\"summaries\": [response]}\n",
    "\n",
    "\n",
    "# Here we define the logic to map out over the documents\n",
    "# We will use this an edge in the graph\n",
    "def map_summaries(state: OverallState):\n",
    "    # We will return a list of `Send` objects\n",
    "    # Each `Send` object consists of the name of a node in the graph\n",
    "    # as well as the state to send to that node\n",
    "    return [\n",
    "        Send(\"generate_summary\", {\"content\": content}) for content in state[\"contents\"]\n",
    "    ]\n",
    "\n",
    "\n",
    "def collect_summaries(state: OverallState):\n",
    "    return {\n",
    "        \"collapsed_summaries\": [Document(summary) for summary in state[\"summaries\"]]\n",
    "    }\n",
    "\n",
    "\n",
    "# Add node to collapse summaries\n",
    "async def collapse_summaries(state: OverallState):\n",
    "    doc_lists = split_list_of_docs(\n",
    "        state[\"collapsed_summaries\"], length_function, token_max\n",
    "    )\n",
    "    results = []\n",
    "    for doc_list in doc_lists:\n",
    "        results.append(await acollapse_docs(doc_list, map_chain.ainvoke))\n",
    "\n",
    "    return {\"collapsed_summaries\": results}\n",
    "\n",
    "\n",
    "# This represents a conditional edge in the graph that determines\n",
    "# if we should collapse the summaries or not\n",
    "def should_collapse(\n",
    "    state: OverallState,\n",
    ") -> Literal[\"collapse_summaries\", \"generate_final_summary\"]:\n",
    "    num_tokens = length_function(state[\"collapsed_summaries\"])\n",
    "    if num_tokens > token_max:\n",
    "        return \"collapse_summaries\"\n",
    "    else:\n",
    "        return \"generate_final_summary\"\n",
    "\n",
    "\n",
    "# Here we will generate the final summary\n",
    "async def generate_final_summary(state: OverallState):\n",
    "    response = await reduce_chain.ainvoke(state[\"collapsed_summaries\"])\n",
    "    return {\"final_summary\": response}\n",
    "\n",
    "\n",
    "# Construct the graph\n",
    "# Nodes:\n",
    "graph = StateGraph(OverallState)\n",
    "graph.add_node(\"generate_summary\", generate_summary)  # same as before\n",
    "graph.add_node(\"collect_summaries\", collect_summaries)\n",
    "graph.add_node(\"collapse_summaries\", collapse_summaries)\n",
    "graph.add_node(\"generate_final_summary\", generate_final_summary)\n",
    "\n",
    "# Edges:\n",
    "graph.add_conditional_edges(START, map_summaries, [\"generate_summary\"])\n",
    "graph.add_edge(\"generate_summary\", \"collect_summaries\")\n",
    "graph.add_conditional_edges(\"collect_summaries\", should_collapse)\n",
    "graph.add_conditional_edges(\"collapse_summaries\", should_collapse)\n",
    "graph.add_edge(\"generate_final_summary\", END)\n",
    "\n",
    "app = graph.compile()"
   ]
  },
  {
   "cell_type": "code",
   "execution_count": 126,
   "metadata": {},
   "outputs": [
    {
     "name": "stdout",
     "output_type": "stream",
     "text": [
      "{'generate_summary': {'summaries': ['**Major Concepts and Terms:**\\n\\n1. **Biofilm**: A complex aggregation of microorganisms growing on a solid substrate. Biofilms are characterized by cells that are embedded in a self-produced matrix of extracellular polymeric substances (EPS).\\n\\n2. **3-D Imaging Technique**: A method used to visualize and analyze the structure of biofilms in three dimensions, revealing intricate details such as connections between cells.\\n\\n3. **Bacterial Social Network**: Refers to the interconnected system within a biofilm where cells communicate and interact through various means, including physical bridges and chemical signals.\\n\\n4. **Fluid Bridges**: Structures identified between cells in a biofilm that facilitate the exchange of substances like proteins and hydrophobic molecules, functioning similarly to communication channels.\\n\\n5. **Selective Permeability**: A property of cell membranes (or structures mimicking them) that allows only specific substances to pass through while blocking others.\\n\\n6. **Vesicles**: Small, membrane-bound sacs within cells used for transporting substances. In the context of biofilms, vesicles like Cg1B and Tgl are involved in transporting motility proteins.\\n\\n7. **Motility Proteins**: Proteins that are essential for the movement of cells. In biofilms, these proteins are transferred between cells to aid in the collective mobility of the cluster.\\n\\n8. **Xanthus**: A specific predatory bacterial strain known for forming swarms and biofilms. It exhibits a unique life cycle with active and inactive stages influenced by nutrient availability.\\n\\n9. **Predatory Mechanisms**: Xanthus bacteria use methods such as lytic enzymes and antibiotic secretions to attack and digest other cells.\\n\\n10. **Gliding**: A type of movement observed in Xanthus, where cells move smoothly over surfaces without the aid of flagella.\\n\\n**Conclusion and Implications**:\\nThe document discusses the structural and functional aspects of biofilms, particularly focusing on the intercellular connections that resemble a social network. These connections are crucial for nutrient absorption and collective mobility within the biofilm, highlighting the complex social behavior of bacterial communities. Further research is needed to fully understand the mechanisms and roles of these intercellular bridges in biofilms.']}}\n",
      "{'generate_summary': {'summaries': ['**Major Concepts, Terms, Definitions, and Acronyms from the Documents:**\\n\\n1. **Myxococcus xanthus**:\\n   - A species of gram-negative, rod-shaped bacteria from the myxobacteria group.\\n   - Predatory and saprophytic, contributing to soil fertility.\\n   - Forms multicellular communities and biofilms.\\n\\n2. **Ecological Niches**:\\n   - Specific environments where different organisms live, such as soil for Myxococcus xanthus.\\n\\n3. **Gram-negative Bacteria**:\\n   - Bacteria characterized by a thin peptidoglycan layer and an outer membrane containing lipopolysaccharides.\\n\\n4. **Rod-shaped Bacteria**:\\n   - Bacteria with a cylindrical shape, longer than they are wide.\\n\\n5. **Organic Matter**:\\n   - Material derived from the remains of organisms; in soils, it includes plant and animal residues at various stages of decomposition.\\n\\n6. **pH Range**:\\n   - Scale used to specify the acidity or basicity of an aqueous solution, with Myxococcus xanthus thriving in a range of 5-10.\\n\\n7. **Macromolecules**:\\n   - Large molecules necessary for life, including proteins, lipids, and nucleic acids.\\n\\n8. **Gliding Motility**:\\n   - A type of movement exhibited by some bacteria where they move along a surface without the use of flagella.\\n\\n9. **Stigmergy**:\\n   - A mechanism of indirect coordination between agents or actions, where the trace left in the environment by an action stimulates the performance of a next action.\\n\\n10. **Biofilms**:\\n    - Complex communities of microorganisms growing on a solid substrate, often embedded within a self-produced matrix of extracellular polymeric substance.\\n\\n11. **Extracellular Enzymes**:\\n    - Enzymes secreted by cells that function outside of the cell to break down nutrients or other substances.\\n\\n12. **Predatory and Saprophytic**:\\n    - Predatory: Organisms that prey on others.\\n    - Saprophytic: Organisms that feed on dead or decaying organic matter.\\n\\nThese terms and concepts are central to understanding the ecological role and biological characteristics of Myxococcus xanthus, particularly its unique behaviors in soil environments and interactions within microbial communities.']}}\n",
      "{'generate_summary': {'summaries': ['**Major Concepts, Terms, Definitions, and Acronyms from the Documents:**\\n\\n1. **Myxococcus xanthus (M. xanthus)**: A type of microbe that undergoes a complex life cycle in response to nutrient availability.\\n\\n2. **Life Cycle of M. xanthus**:\\n   - **Starvation**: Triggers the microbes to aggregate and form molds.\\n   - **Aggregation**: Cells come together, some remain as a monolayer of undifferentiated cells.\\n   - **Mold**: Formed from aggregated cells during nutrient scarcity.\\n   - **Fruiting Bodies**: Develop from molds if nutrient deficiency persists, leading to spore formation.\\n   - **Myxospores**: Dormant spores that form from fruiting bodies, which can germinate into vegetative forms upon detecting nutrients.\\n   - **Vegetative Form**: Active, growing stage of M. xanthus that forms biofilms and swarms when nutrients are available.\\n\\n3. **Biofilm**: A complex aggregation of microbes forming a protective and functional community. M. xanthus forms biofilms during the vegetative stage of its life cycle.\\n\\n4. **Swarms**: Groups of M. xanthus that move collectively, particularly during the vegetative stage for predation or when forming aggregates.\\n\\n5. **Social Network in Biofilms**:\\n   - **Connecting Vesicles**: Structures observed in biofilms that connect cells, facilitating communication and nutrient sharing among cells.\\n   - **Fundamental Role**: These vesicles are essential for nutrition distribution, signal communication within the biofilm, and aiding in swarm movement and aggregate formation.\\n\\n6. **Morphogenesis**: The process by which an organism develops its shape, here referring to the development of fruiting bodies into spores in M. xanthus.\\n\\n7. **Germination**: The process by which a spore emerges from dormancy and begins to grow into its vegetative form upon sensing environmental nutrients.\\n\\nThis summary encapsulates the critical biological processes and structures associated with the life cycle and social interactions of Myxococcus xanthus, highlighting the adaptive responses to environmental nutrient levels and the complex social behaviors within biofilms.']}}\n",
      "{'generate_summary': {'summaries': ['**Major Concepts, Terms, Definitions, and Acronyms:**\\n\\n1. **Motility**:\\n   - **A-motility**: Refers to the individual movement of single cells, involving multiple motor elements localized in the periplasmic space and attached to the peptidoglycan layer, assisted by extracellular polysaccharide slime.\\n   - **S-motility**: Refers to the movement of cells in groups, requiring fibrils, type four pili, lipopolysaccharide (LPS), and O-antigen. Movement is achieved as type four pilus cells adhere to surfaces, then retract.\\n\\n2. **Type Four Pili**: Filamentous structures on bacteria that facilitate adhesion to surfaces and are instrumental in S-motility by retracting to pull the cell forward.\\n\\n3. **Lipopolysaccharide (LPS)**: A component of the outer membrane of Gram-negative bacteria, essential for structural integrity and involved in S-motility.\\n\\n4. **O-antigen**: Part of the LPS that is involved in the immune response and bacterial movement (S-motility).\\n\\n5. **Fruiting Bodies**: Structures formed by bacteria during periods of nutritional stress or starvation, allowing for the development of spores.\\n\\n6. **Myxospores**:\\n   - Defined as metabolically neutral cells capable of withstanding harsh conditions like desiccation and high temperatures.\\n   - Formed during the transformation of cells from rod-shaped to spherical shapes, which are heat resistant.\\n\\n7. **Sporulation**: The process of spore formation, typically triggered by environmental stress, involving the restructuring of cell walls and rounding up of cells.\\n\\n8. **Intercellular Communication**: The process by which cells communicate with each other to coordinate activities such as swarming, fruiting, and sporulation.\\n\\n9. **Swarming**: A coordinated movement of a bacterial population across a surface; influenced by intercellular communication and environmental signals.\\n\\n10. **Eavesdropping**: Described in the context of M. xanthus, where the bacterium detects extracellular signals produced by prey to modify its swarming behavior for more effective predation.\\n\\nThese terms and concepts are central to understanding the behavior and adaptive strategies of bacteria in response to environmental conditions and interactions with other organisms.']}}\n",
      "{'collect_summaries': {'collapsed_summaries': [Document(metadata={}, page_content='**Major Concepts, Terms, Definitions, and Acronyms from the Documents:**\\n\\n1. **Myxococcus xanthus**:\\n   - A species of gram-negative, rod-shaped bacteria from the myxobacteria group.\\n   - Predatory and saprophytic, contributing to soil fertility.\\n   - Forms multicellular communities and biofilms.\\n\\n2. **Ecological Niches**:\\n   - Specific environments where different organisms live, such as soil for Myxococcus xanthus.\\n\\n3. **Gram-negative Bacteria**:\\n   - Bacteria characterized by a thin peptidoglycan layer and an outer membrane containing lipopolysaccharides.\\n\\n4. **Rod-shaped Bacteria**:\\n   - Bacteria with a cylindrical shape, longer than they are wide.\\n\\n5. **Organic Matter**:\\n   - Material derived from the remains of organisms; in soils, it includes plant and animal residues at various stages of decomposition.\\n\\n6. **pH Range**:\\n   - Scale used to specify the acidity or basicity of an aqueous solution, with Myxococcus xanthus thriving in a range of 5-10.\\n\\n7. **Macromolecules**:\\n   - Large molecules necessary for life, including proteins, lipids, and nucleic acids.\\n\\n8. **Gliding Motility**:\\n   - A type of movement exhibited by some bacteria where they move along a surface without the use of flagella.\\n\\n9. **Stigmergy**:\\n   - A mechanism of indirect coordination between agents or actions, where the trace left in the environment by an action stimulates the performance of a next action.\\n\\n10. **Biofilms**:\\n    - Complex communities of microorganisms growing on a solid substrate, often embedded within a self-produced matrix of extracellular polymeric substance.\\n\\n11. **Extracellular Enzymes**:\\n    - Enzymes secreted by cells that function outside of the cell to break down nutrients or other substances.\\n\\n12. **Predatory and Saprophytic**:\\n    - Predatory: Organisms that prey on others.\\n    - Saprophytic: Organisms that feed on dead or decaying organic matter.\\n\\nThese terms and concepts are central to understanding the ecological role and biological characteristics of Myxococcus xanthus, particularly its unique behaviors in soil environments and interactions within microbial communities.'), Document(metadata={}, page_content='**Major Concepts, Terms, Definitions, and Acronyms:**\\n\\n1. **Motility**:\\n   - **A-motility**: Refers to the individual movement of single cells, involving multiple motor elements localized in the periplasmic space and attached to the peptidoglycan layer, assisted by extracellular polysaccharide slime.\\n   - **S-motility**: Refers to the movement of cells in groups, requiring fibrils, type four pili, lipopolysaccharide (LPS), and O-antigen. Movement is achieved as type four pilus cells adhere to surfaces, then retract.\\n\\n2. **Type Four Pili**: Filamentous structures on bacteria that facilitate adhesion to surfaces and are instrumental in S-motility by retracting to pull the cell forward.\\n\\n3. **Lipopolysaccharide (LPS)**: A component of the outer membrane of Gram-negative bacteria, essential for structural integrity and involved in S-motility.\\n\\n4. **O-antigen**: Part of the LPS that is involved in the immune response and bacterial movement (S-motility).\\n\\n5. **Fruiting Bodies**: Structures formed by bacteria during periods of nutritional stress or starvation, allowing for the development of spores.\\n\\n6. **Myxospores**:\\n   - Defined as metabolically neutral cells capable of withstanding harsh conditions like desiccation and high temperatures.\\n   - Formed during the transformation of cells from rod-shaped to spherical shapes, which are heat resistant.\\n\\n7. **Sporulation**: The process of spore formation, typically triggered by environmental stress, involving the restructuring of cell walls and rounding up of cells.\\n\\n8. **Intercellular Communication**: The process by which cells communicate with each other to coordinate activities such as swarming, fruiting, and sporulation.\\n\\n9. **Swarming**: A coordinated movement of a bacterial population across a surface; influenced by intercellular communication and environmental signals.\\n\\n10. **Eavesdropping**: Described in the context of M. xanthus, where the bacterium detects extracellular signals produced by prey to modify its swarming behavior for more effective predation.\\n\\nThese terms and concepts are central to understanding the behavior and adaptive strategies of bacteria in response to environmental conditions and interactions with other organisms.'), Document(metadata={}, page_content='**Major Concepts, Terms, Definitions, and Acronyms from the Documents:**\\n\\n1. **Myxococcus xanthus (M. xanthus)**: A type of microbe that undergoes a complex life cycle in response to nutrient availability.\\n\\n2. **Life Cycle of M. xanthus**:\\n   - **Starvation**: Triggers the microbes to aggregate and form molds.\\n   - **Aggregation**: Cells come together, some remain as a monolayer of undifferentiated cells.\\n   - **Mold**: Formed from aggregated cells during nutrient scarcity.\\n   - **Fruiting Bodies**: Develop from molds if nutrient deficiency persists, leading to spore formation.\\n   - **Myxospores**: Dormant spores that form from fruiting bodies, which can germinate into vegetative forms upon detecting nutrients.\\n   - **Vegetative Form**: Active, growing stage of M. xanthus that forms biofilms and swarms when nutrients are available.\\n\\n3. **Biofilm**: A complex aggregation of microbes forming a protective and functional community. M. xanthus forms biofilms during the vegetative stage of its life cycle.\\n\\n4. **Swarms**: Groups of M. xanthus that move collectively, particularly during the vegetative stage for predation or when forming aggregates.\\n\\n5. **Social Network in Biofilms**:\\n   - **Connecting Vesicles**: Structures observed in biofilms that connect cells, facilitating communication and nutrient sharing among cells.\\n   - **Fundamental Role**: These vesicles are essential for nutrition distribution, signal communication within the biofilm, and aiding in swarm movement and aggregate formation.\\n\\n6. **Morphogenesis**: The process by which an organism develops its shape, here referring to the development of fruiting bodies into spores in M. xanthus.\\n\\n7. **Germination**: The process by which a spore emerges from dormancy and begins to grow into its vegetative form upon sensing environmental nutrients.\\n\\nThis summary encapsulates the critical biological processes and structures associated with the life cycle and social interactions of Myxococcus xanthus, highlighting the adaptive responses to environmental nutrient levels and the complex social behaviors within biofilms.'), Document(metadata={}, page_content='**Major Concepts and Terms:**\\n\\n1. **Biofilm**: A complex aggregation of microorganisms growing on a solid substrate. Biofilms are characterized by cells that are embedded in a self-produced matrix of extracellular polymeric substances (EPS).\\n\\n2. **3-D Imaging Technique**: A method used to visualize and analyze the structure of biofilms in three dimensions, revealing intricate details such as connections between cells.\\n\\n3. **Bacterial Social Network**: Refers to the interconnected system within a biofilm where cells communicate and interact through various means, including physical bridges and chemical signals.\\n\\n4. **Fluid Bridges**: Structures identified between cells in a biofilm that facilitate the exchange of substances like proteins and hydrophobic molecules, functioning similarly to communication channels.\\n\\n5. **Selective Permeability**: A property of cell membranes (or structures mimicking them) that allows only specific substances to pass through while blocking others.\\n\\n6. **Vesicles**: Small, membrane-bound sacs within cells used for transporting substances. In the context of biofilms, vesicles like Cg1B and Tgl are involved in transporting motility proteins.\\n\\n7. **Motility Proteins**: Proteins that are essential for the movement of cells. In biofilms, these proteins are transferred between cells to aid in the collective mobility of the cluster.\\n\\n8. **Xanthus**: A specific predatory bacterial strain known for forming swarms and biofilms. It exhibits a unique life cycle with active and inactive stages influenced by nutrient availability.\\n\\n9. **Predatory Mechanisms**: Xanthus bacteria use methods such as lytic enzymes and antibiotic secretions to attack and digest other cells.\\n\\n10. **Gliding**: A type of movement observed in Xanthus, where cells move smoothly over surfaces without the aid of flagella.\\n\\n**Conclusion and Implications**:\\nThe document discusses the structural and functional aspects of biofilms, particularly focusing on the intercellular connections that resemble a social network. These connections are crucial for nutrient absorption and collective mobility within the biofilm, highlighting the complex social behavior of bacterial communities. Further research is needed to fully understand the mechanisms and roles of these intercellular bridges in biofilms.')]}}\n",
      "{'generate_final_summary': {'final_summary': {'What is Myxococcus xanthus?': 'A species of gram-negative, rod-shaped bacteria from the myxobacteria group, known for its predatory and saprophytic nature, contributing to soil fertility.', 'What are ecological niches?': 'Specific environments where different organisms live, such as soil for Myxococcus xanthus.', 'What characterizes gram-negative bacteria?': 'Bacteria with a thin peptidoglycan layer and an outer membrane containing lipopolysaccharides.', 'What is the shape of rod-shaped bacteria?': 'Cylindrical, longer than they are wide.', 'What constitutes organic matter in soils?': 'Material derived from the remains of organisms, including plant and animal residues at various stages of decomposition.', 'What is the pH range suitable for Myxococcus xanthus?': 'Myxococcus xanthus thrives in a pH range of 5-10.', 'What are macromolecules?': 'Large molecules necessary for life, including proteins, lipids, and nucleic acids.', 'What is gliding motility?': 'A type of movement exhibited by some bacteria where they move along a surface without the use of flagella.', 'What is stigmergy?': 'A mechanism of indirect coordination between agents or actions, where the trace left in the environment by an action stimulates the performance of a next action.', 'What are biofilms?': 'Complex communities of microorganisms growing on a solid substrate, often embedded within a self-produced matrix of extracellular polymeric substance.', 'What are extracellular enzymes?': 'Enzymes secreted by cells that function outside of the cell to break down nutrients or other substances.', 'What does it mean for an organism to be predatory and saprophytic?': 'Predatory organisms prey on others, while saprophytic organisms feed on dead or decaying organic matter.', 'What is A-motility in Myxococcus xanthus?': 'Individual movement of single cells, involving motor elements localized in the periplasmic space and assisted by extracellular polysaccharide slime.', 'What is S-motility in Myxococcus xanthus?': 'Movement of cells in groups, requiring fibrils, type four pili, lipopolysaccharide (LPS), and O-antigen, achieved as type four pilus cells adhere to surfaces and then retract.', 'What are type four pili?': 'Filamentous structures on bacteria that facilitate adhesion to surfaces and are instrumental in S-motility by retracting to pull the cell forward.', 'What is the role of lipopolysaccharide (LPS) in bacteria?': 'A component of the outer membrane of Gram-negative bacteria, essential for structural integrity and involved in S-motility.', 'What are fruiting bodies in Myxococcus xanthus?': 'Structures formed by bacteria during periods of nutritional stress or starvation, allowing for the development of spores.', 'What are myxospores?': 'Metabolically neutral cells formed during the transformation of cells from rod-shaped to spherical shapes, capable of withstanding harsh conditions like desiccation and high temperatures.', 'What is sporulation?': 'The process of spore formation, typically triggered by environmental stress, involving the restructuring of cell walls and rounding up of cells.', 'What is intercellular communication in Myxococcus xanthus?': 'The process by which cells communicate with each other to coordinate activities such as swarming, fruiting, and sporulation.'}}}\n"
     ]
    }
   ],
   "source": [
    "async for step in app.astream(\n",
    "    {\"contents\": [doc.page_content for doc in documents]},\n",
    "    {\"recursion_limit\": 10},\n",
    "):\n",
    "    print(step)"
   ]
  },
  {
   "cell_type": "code",
   "execution_count": null,
   "metadata": {},
   "outputs": [],
   "source": []
  }
 ],
 "metadata": {
  "kernelspec": {
   "display_name": "flashcard",
   "language": "python",
   "name": "python3"
  },
  "language_info": {
   "codemirror_mode": {
    "name": "ipython",
    "version": 3
   },
   "file_extension": ".py",
   "mimetype": "text/x-python",
   "name": "python",
   "nbconvert_exporter": "python",
   "pygments_lexer": "ipython3",
   "version": "3.11.10"
  }
 },
 "nbformat": 4,
 "nbformat_minor": 2
}
